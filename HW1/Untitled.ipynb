{
 "cells": [
  {
   "cell_type": "code",
   "execution_count": 1,
   "id": "f6c44315",
   "metadata": {},
   "outputs": [],
   "source": [
    "import os\n",
    "import sys\n",
    "from pyspark import SparkContext, SparkConf\n",
    "from pyspark.sql import SQLContext"
   ]
  },
  {
   "cell_type": "code",
   "execution_count": 2,
   "id": "3bba58d4",
   "metadata": {},
   "outputs": [
    {
     "name": "stderr",
     "output_type": "stream",
     "text": [
      "22/04/06 16:12:10 WARN Utils: Your hostname, eunoia resolves to a loopback address: 127.0.1.1; using 192.168.196.57 instead (on interface wlp1s0)\n",
      "22/04/06 16:12:10 WARN Utils: Set SPARK_LOCAL_IP if you need to bind to another address\n",
      "Using Spark's default log4j profile: org/apache/spark/log4j-defaults.properties\n",
      "Setting default log level to \"WARN\".\n",
      "To adjust logging level use sc.setLogLevel(newLevel). For SparkR, use setLogLevel(newLevel).\n",
      "22/04/06 16:12:11 WARN NativeCodeLoader: Unable to load native-hadoop library for your platform... using builtin-java classes where applicable\n"
     ]
    }
   ],
   "source": [
    "conf = SparkConf().setAppName('G101HW1').setMaster(\"local[*]\")\n",
    "sc = SparkContext(conf=conf)"
   ]
  },
  {
   "cell_type": "code",
   "execution_count": 3,
   "id": "e8f7c1bd",
   "metadata": {},
   "outputs": [
    {
     "data": {
      "text/plain": [
       "MapPartitionsRDD[6] at coalesce at NativeMethodAccessorImpl.java:0"
      ]
     },
     "execution_count": 3,
     "metadata": {},
     "output_type": "execute_result"
    }
   ],
   "source": [
    "\"\"\" \n",
    "    K = <int> Number of Partitions\n",
    "    H = <int> Number of Products with Highest Popularity\n",
    "    S = <str> Name of the Country -- 'all' Means all Countries\n",
    "    dataset_path = Path of the Dataset File\n",
    "\n",
    "\"\"\"\n",
    "K=4\n",
    "H=5\n",
    "# S='United_Kingdom'\n",
    "# S = 'all'\n",
    "S = 'Italy'\n",
    "# dataset_path = 'sample_50.csv'\n",
    "dataset_path = 'sample_10000.csv'\n",
    "# dataset_path = 'full_dataset.csv'\n",
    "# sqlContext = SQLContext(sc)\n",
    "rawData = sc.textFile(dataset_path,K).cache()\n",
    "rawData.repartition(K)"
   ]
  },
  {
   "cell_type": "code",
   "execution_count": 4,
   "id": "d1394870",
   "metadata": {},
   "outputs": [
    {
     "name": "stderr",
     "output_type": "stream",
     "text": [
      "                                                                                \r"
     ]
    },
    {
     "data": {
      "text/plain": [
       "10000"
      ]
     },
     "execution_count": 4,
     "metadata": {},
     "output_type": "execute_result"
    }
   ],
   "source": [
    "rawData.count()"
   ]
  },
  {
   "cell_type": "code",
   "execution_count": 5,
   "id": "b4c7f06b",
   "metadata": {},
   "outputs": [
    {
     "data": {
      "text/plain": [
       "4"
      ]
     },
     "execution_count": 5,
     "metadata": {},
     "output_type": "execute_result"
    }
   ],
   "source": [
    "rawData.getNumPartitions()"
   ]
  },
  {
   "cell_type": "code",
   "execution_count": 6,
   "id": "3ce70498",
   "metadata": {},
   "outputs": [
    {
     "name": "stdout",
     "output_type": "stream",
     "text": [
      "Product-Customer Pairs = 20\n"
     ]
    }
   ],
   "source": [
    "def productCustomer(row, country='all'):\n",
    "    \"\"\"\n",
    "    row = [0:TransactionID, 1:ProductID, 2:Description, 3:Quantity, 4:InvoiceDate, 5:UnitPrice, 6:CustomerID, 7:Country]\n",
    "    \"\"\"\n",
    "    s = row.split(',')\n",
    "    if int(s[3]) > 0:\n",
    "        if country == 'all':\n",
    "            return ((s[1], int(s[6])),0)\n",
    "        elif s[7] == country:\n",
    "            return ((s[1], int(s[6])),0)\n",
    "        \n",
    "        \n",
    "product_customer = (rawData.map(lambda row: productCustomer(row, S)).filter(lambda row: row)\n",
    "                    .groupByKey()\n",
    "                    .map(lambda x: x[0]))\n",
    "print(f'Product-Customer Pairs = {product_customer.count()}')"
   ]
  },
  {
   "cell_type": "code",
   "execution_count": 8,
   "id": "daf1adb7",
   "metadata": {},
   "outputs": [
    {
     "name": "stdout",
     "output_type": "stream",
     "text": [
      "Product-Customer Pairs = 20\n"
     ]
    }
   ],
   "source": [
    "def productCustomer2(row, country='all'):\n",
    "    \"\"\"\n",
    "    row = [0:TransactionID, 1:ProductID, 2:Description, 3:Quantity, 4:InvoiceDate, 5:UnitPrice, 6:CustomerID, 7:Country]\n",
    "    \"\"\"\n",
    "    s = row.split(',')\n",
    "    if int(s[3]) > 0:\n",
    "        if country == 'all':\n",
    "            return [((s[1], int(s[6])),0)]\n",
    "        elif s[7] == country:\n",
    "            return [((s[1], int(s[6])),0)]\n",
    "        else:\n",
    "            return []\n",
    "    else:\n",
    "        return []\n",
    "    \n",
    "    \n",
    "product_customer2 = (rawData.flatMap(lambda row: productCustomer2(row, S))\n",
    "                    .groupByKey()\n",
    "                    .map(lambda x: x[0]))\n",
    "print(f'Product-Customer Pairs = {product_customer.count()}')"
   ]
  },
  {
   "cell_type": "code",
   "execution_count": 25,
   "id": "050273bd",
   "metadata": {},
   "outputs": [
    {
     "data": {
      "text/plain": [
       "17"
      ]
     },
     "execution_count": 25,
     "metadata": {},
     "output_type": "execute_result"
    }
   ],
   "source": [
    "def changeValueToOne(iterator):\n",
    "    for pair in iter(iterator):\n",
    "        yield (pair[0],1)\n",
    "        \n",
    "product_popularity1 = (product_customer\n",
    "                       .mapPartitions(changeValueToOne)\n",
    "                        .groupByKey()\n",
    "                        .mapValues(sum)\n",
    "                      )\n",
    "product_popularity1.count()"
   ]
  },
  {
   "cell_type": "code",
   "execution_count": 26,
   "id": "e05da716",
   "metadata": {},
   "outputs": [
    {
     "data": {
      "text/plain": [
       "[('23084', 1),\n",
       " ('22556', 1),\n",
       " ('22776', 1),\n",
       " ('22273', 1),\n",
       " ('22844', 1),\n",
       " ('22847', 1),\n",
       " ('22720', 1),\n",
       " ('22961', 1),\n",
       " ('21623', 1),\n",
       " ('22804', 1),\n",
       " ('22423', 2),\n",
       " ('84375', 1),\n",
       " ('21755', 1),\n",
       " ('22845', 1),\n",
       " ('84879', 1),\n",
       " ('POST', 3),\n",
       " ('20718', 1)]"
      ]
     },
     "execution_count": 26,
     "metadata": {},
     "output_type": "execute_result"
    }
   ],
   "source": [
    "product_popularity1.collect()"
   ]
  },
  {
   "cell_type": "code",
   "execution_count": 28,
   "id": "2390df97",
   "metadata": {},
   "outputs": [
    {
     "data": {
      "text/plain": [
       "[('23084', 1),\n",
       " ('22556', 1),\n",
       " ('22776', 1),\n",
       " ('22273', 1),\n",
       " ('22844', 1),\n",
       " ('22847', 1),\n",
       " ('22720', 1),\n",
       " ('22961', 1),\n",
       " ('21623', 1),\n",
       " ('22804', 1),\n",
       " ('22423', 2),\n",
       " ('84375', 1),\n",
       " ('21755', 1),\n",
       " ('22845', 1),\n",
       " ('84879', 1),\n",
       " ('POST', 3),\n",
       " ('20718', 1)]"
      ]
     },
     "execution_count": 28,
     "metadata": {},
     "output_type": "execute_result"
    }
   ],
   "source": [
    "product_popularity2 = (product_customer.map(lambda x:(x[0],1))\n",
    "                       .reduceByKey(lambda x,y:x+y)\n",
    ")\n",
    "product_popularity2.collect()"
   ]
  },
  {
   "cell_type": "code",
   "execution_count": 35,
   "id": "bf08eba1",
   "metadata": {},
   "outputs": [
    {
     "data": {
      "text/plain": [
       "[('POST', 3), ('22423', 2), ('23084', 1), ('22556', 1), ('22776', 1)]"
      ]
     },
     "execution_count": 35,
     "metadata": {},
     "output_type": "execute_result"
    }
   ],
   "source": [
    "highest_popularity = (product_popularity1\n",
    "                     .sortBy(lambda x: x[1],ascending=False)\n",
    "                     ).take(H)\n",
    "highest_popularity"
   ]
  },
  {
   "cell_type": "code",
   "execution_count": 13,
   "id": "5fac6f0d",
   "metadata": {},
   "outputs": [],
   "source": [
    "# def takeHighestPopularity(iterator,H):\n",
    "#     highest_popularity = list()\n",
    "#     for i in range(H):\n",
    "#         highest_popularity.append(iterator[i])\n",
    "#     return highest_popularity\n",
    "        "
   ]
  },
  {
   "cell_type": "code",
   "execution_count": null,
   "id": "96d80ae9",
   "metadata": {},
   "outputs": [],
   "source": [
    "# highest_popularity= (product_popularity1\n",
    "#                      .map(lambda x: (x[1],x[0]))\n",
    "#                      .repartitionAndSortWithinPartitions(4,ascending=True)\n",
    "# #                      .foreachPartition(lambda l: print(x) for x in l)\n",
    "#                     )\n",
    "# highest_popularity.collect()"
   ]
  },
  {
   "cell_type": "code",
   "execution_count": 36,
   "id": "ae5ce2ad",
   "metadata": {},
   "outputs": [
    {
     "name": "stdout",
     "output_type": "stream",
     "text": [
      "['1', '5', 'POST']\n"
     ]
    }
   ],
   "source": [
    "a=['1','POST','5']\n",
    "a.sort()\n",
    "print(a)"
   ]
  },
  {
   "cell_type": "code",
   "execution_count": 38,
   "id": "71071d2b",
   "metadata": {},
   "outputs": [
    {
     "data": {
      "text/plain": [
       "[('20718', 1),\n",
       " ('21623', 1),\n",
       " ('21755', 1),\n",
       " ('22273', 1),\n",
       " ('22423', 2),\n",
       " ('22556', 1),\n",
       " ('22720', 1),\n",
       " ('22776', 1),\n",
       " ('22804', 1),\n",
       " ('22844', 1),\n",
       " ('22845', 1),\n",
       " ('22847', 1),\n",
       " ('22961', 1),\n",
       " ('23084', 1),\n",
       " ('84375', 1),\n",
       " ('84879', 1),\n",
       " ('POST', 3)]"
      ]
     },
     "execution_count": 38,
     "metadata": {},
     "output_type": "execute_result"
    }
   ],
   "source": [
    "sorted_product_popularity1= (product_popularity1\n",
    "                             .sortByKey()\n",
    "                            ).collect()\n",
    "sorted_product_popularity1"
   ]
  },
  {
   "cell_type": "code",
   "execution_count": 39,
   "id": "c9b290b0",
   "metadata": {},
   "outputs": [
    {
     "data": {
      "text/plain": [
       "[('20718', 1),\n",
       " ('21623', 1),\n",
       " ('21755', 1),\n",
       " ('22273', 1),\n",
       " ('22423', 2),\n",
       " ('22556', 1),\n",
       " ('22720', 1),\n",
       " ('22776', 1),\n",
       " ('22804', 1),\n",
       " ('22844', 1),\n",
       " ('22845', 1),\n",
       " ('22847', 1),\n",
       " ('22961', 1),\n",
       " ('23084', 1),\n",
       " ('84375', 1),\n",
       " ('84879', 1),\n",
       " ('POST', 3)]"
      ]
     },
     "execution_count": 39,
     "metadata": {},
     "output_type": "execute_result"
    }
   ],
   "source": [
    "sorted_product_popularity2= (product_popularity2\n",
    "                             .sortByKey()\n",
    "                            ).collect()\n",
    "sorted_product_popularity2"
   ]
  },
  {
   "cell_type": "code",
   "execution_count": null,
   "id": "f438f0b8",
   "metadata": {},
   "outputs": [],
   "source": []
  }
 ],
 "metadata": {
  "kernelspec": {
   "display_name": "Python 3 (ipykernel)",
   "language": "python",
   "name": "python3"
  },
  "language_info": {
   "codemirror_mode": {
    "name": "ipython",
    "version": 3
   },
   "file_extension": ".py",
   "mimetype": "text/x-python",
   "name": "python",
   "nbconvert_exporter": "python",
   "pygments_lexer": "ipython3",
   "version": "3.8.10"
  }
 },
 "nbformat": 4,
 "nbformat_minor": 5
}
